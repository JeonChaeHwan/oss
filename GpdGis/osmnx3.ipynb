{
  "nbformat": 4,
  "nbformat_minor": 0,
  "metadata": {
    "colab": {
      "provenance": [],
      "authorship_tag": "ABX9TyMI/r4gNi0ekwV2zHjWvDSF",
      "include_colab_link": true
    },
    "kernelspec": {
      "name": "python3",
      "display_name": "Python 3"
    },
    "language_info": {
      "name": "python"
    }
  },
  "cells": [
    {
      "cell_type": "markdown",
      "metadata": {
        "id": "view-in-github",
        "colab_type": "text"
      },
      "source": [
        "<a href=\"https://colab.research.google.com/github/JeonChaeHwan/oss/blob/main/osmnx3.ipynb\" target=\"_parent\"><img src=\"https://colab.research.google.com/assets/colab-badge.svg\" alt=\"Open In Colab\"/></a>"
      ]
    },
    {
      "cell_type": "markdown",
      "source": [
        "Setup"
      ],
      "metadata": {
        "id": "y6n4tvxpVRKJ"
      }
    },
    {
      "cell_type": "code",
      "source": [
        "import networks as nx\n",
        "import osmnx as ox\n",
        "import matplotlib.pyplot as plt"
      ],
      "metadata": {
        "id": "igC-aEexVErr"
      },
      "execution_count": null,
      "outputs": []
    },
    {
      "cell_type": "code",
      "source": [
        "import geopandas as gpd\n",
        "from descartes import PolygonPatch\n",
        "from shapely.geometry import LineString\n",
        "from shapely.geometry import Point\n",
        "from shapely.geometry import Polygon"
      ],
      "metadata": {
        "id": "BCADZv3WVMZI"
      },
      "execution_count": null,
      "outputs": []
    },
    {
      "cell_type": "code",
      "source": [
        "# configure the place, network type, trip times, and travel speed\n",
        "address = \"Hadan-dong, Saha-gu, Busan, Korea\"\n",
        "network_type = \"walk\"\n",
        "trip_times = [1, 5, 10, 15, 20, 25, 30]\n",
        "travel_speed = 4.5\n",
        "G = ox.graph_from_address( address, network_type = network_type)"
      ],
      "metadata": {
        "id": "VhvIfTdEVQkl"
      },
      "execution_count": null,
      "outputs": []
    },
    {
      "cell_type": "code",
      "source": [
        "# 위치에 따른 지도 가져오기\n",
        "G = ox.graph_from_address(address, network_type=network_type)\n",
        "\n",
        "# 원하는 지점과 해당 지도에 대해서 그래프\n",
        "gdf_nodes = ox.graph_topdfs(G, edges=False)\n",
        "# x, y = gdf_nodes[\"geometry\"].unary_union.centroid.xy   # 지도 중심점 좌표\n",
        "# 동아대학교의 위경도 좌표: lat -> 위도 x, 경도 -> lon y\n",
        "x = 128.96817249950897\n",
        "y = 36.11755694483541\n",
        "center_node = ox.distance.nearest_nodes(G, x, y)\n",
        "G = ox.project_graph(G)"
      ],
      "metadata": {
        "id": "GMHjXCz_VnNR"
      },
      "execution_count": null,
      "outputs": []
    },
    {
      "cell_type": "markdown",
      "source": [
        "그래프에 가중치 넣기"
      ],
      "metadata": {
        "id": "t9E-VUG-WD2M"
      }
    },
    {
      "cell_type": "code",
      "source": [
        "from ast import keyword\n",
        "# 계산을 위한 edges에 속성값을 넣음\n",
        "meters_per_minute = travel_speed * 1000 / 60  # km per hour to m per minute\n",
        "for _, _, _, data in G.edges(data=True, keys=True):\n",
        "    data[\"time\"] = data[\"length\"] * meters_per_minute"
      ],
      "metadata": {
        "id": "tK-xNgAfWDZu"
      },
      "execution_count": null,
      "outputs": []
    },
    {
      "cell_type": "markdown",
      "source": [
        "등시성(isochrone) 맵 구현"
      ],
      "metadata": {
        "id": "y1XGR_XFWSt4"
      }
    },
    {
      "cell_type": "code",
      "source": [
        "# 등시성의 polygon 구현\n",
        "isochrone_polys = []\n",
        "for trip_time in sorted(trip_times, reverse=True):\n",
        "  subgraph = nx.ego_graph(G, center_node, radius=trip_time, distance=\"time\")\n",
        "  node_points = [Point((data[\"x\"], data[\"y\"])) for node, data in subgraph.node(data=True)]\n",
        "  bounding_poly = gpd.GeoSeries(node_points).unaray_union.conves_hull\n",
        "  isochrone_polys.append(bounding_poly)\n",
        "\n",
        "# 등시성에 따른 네트워크를 표기\n",
        "fig, ax = ox.plot_graph(\n",
        "    G, show=False, close=False, edge_color=\"#999999\", edge_alpha=0.2, node_size=0)\n",
        "for polygon, fc in zip(isochrone_polys, iso_colors):\n",
        "  patch = PolygonPatch(polygon, fc=fc, ec=\"none\", alpha=0.6, zorder=1)\n",
        "  ax.add_patch(patch)\n",
        "plt.show()"
      ],
      "metadata": {
        "id": "tPiW4-y9WVwQ"
      },
      "execution_count": null,
      "outputs": []
    },
    {
      "cell_type": "markdown",
      "source": [
        "Polyline 기반 등시성(isochrone) 맵 구현"
      ],
      "metadata": {
        "id": "k3qJ7yCoXbWX"
      }
    },
    {
      "cell_type": "code",
      "source": [
        "def make_iso_polys(G, edge_buff=25, node_buff=50, infill-False):\n",
        "  isochrone_polys = []\n",
        "  for trip_time in sorted(trip_times, reverse=True):\n",
        "    subgraph=nx.ego_graph(G, center_node, radius=trip_time, distance=\"time\")\n",
        "\n",
        "    node_points = [Point((data[\"x\"], data[\"y\"])) for node, data in subgraph.node(data=True)]\n",
        "    nodes_gdf = gpd.GeoDataFrame({\"id\": subgraph.nodes(), \"geometry\": node_points})\n",
        "    nodes_gdf = nodes_gdf.set_index(\"id\")\n",
        "\n",
        "    edge_lines = []\n",
        "    for n_fr, n_to in subgraph.edges() :\n",
        "      f = nodes_gdf.loc[n_fr].geometry\n",
        "      t = nodes_gdf.loc[n_to].geometry\n",
        "      edge_lookup = G.get_edgs_data(n_fr, n_to[0].get(\"geometry\", LineString([f, t])))\n",
        "      edge_lines.append(edge_lookup)\n",
        "\n",
        "    n = nodes_gdf.buffer(node_buff).geometry\n",
        "    e = gpd.GeoSeries(edge_lines).buffer(edge_buff).geometry\n",
        "    all_gs = list(n) + list(e)\n",
        "    new_iso = gpd.GeoSeries(all_gs).unary_union\n",
        "\n",
        "    if infill:\n",
        "      new_iso = Polygon(new_iso.exterior)\n",
        "    isochrone_polys.append(new_iso)\n",
        "  return isochrone_polys"
      ],
      "metadata": {
        "id": "9BVR3s90XsuH"
      },
      "execution_count": null,
      "outputs": []
    },
    {
      "cell_type": "markdown",
      "source": [
        "Isolated Polyline 기반 등시성(isochrone) 맵 구현"
      ],
      "metadata": {
        "id": "B3Bp3sO0ZC7N"
      }
    },
    {
      "cell_type": "code",
      "source": [
        "isochrone_polys = make_iso_polys(G, edge_buff=25, node_buff=0, infill=True)\n",
        "fig, ax = ox.plot_graph(\n",
        "    G, show=False, close=False, edge_color=\"#999999\", edge_alpha=0.2, node_size=0)\n",
        "for polygon, fc in zip(isochrone_polys, iso_colors):\n",
        "  patch = PolygonPatch(polygon, fc=fc, ec=\"none\", alpha=0.6, zorder=1)\n",
        "  ax.add_patch(patch)\n",
        "plt.show()"
      ],
      "metadata": {
        "id": "xx2y4nAGZG7q"
      },
      "execution_count": null,
      "outputs": []
    }
  ]
}
